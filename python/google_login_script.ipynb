{
 "cells": [
  {
   "cell_type": "code",
   "execution_count": 1,
   "metadata": {},
   "outputs": [
    {
     "name": "stdout",
     "output_type": "stream",
     "text": [
      "Please go to this URL to authorize access: https://accounts.google.com/o/oauth2/auth?response_type=code&client_id=361278454891-sve6t24fgsham41fafeohos16b35sg3l.apps.googleusercontent.com&redirect_uri=https%3A%2F%2Fevents-manager-six.vercel.app%2Fpdp_screen.html&scope=https%3A%2F%2Fwww.googleapis.com%2Fauth%2Fuserinfo.profile+https%3A%2F%2Fwww.googleapis.com%2Fauth%2Fuserinfo.email+https%3A%2F%2Fwww.googleapis.com%2Fauth%2Fgmail.readonly+https%3A%2F%2Fwww.googleapis.com%2Fauth%2Fbusiness.manage+openid&state=H19WWJzoUziTPKZb4K0TZm8gvQPOSr&prompt=consent&access_type=offline\n"
     ]
    }
   ],
   "source": [
    "#correct\n",
    "from google.oauth2.credentials import Credentials\n",
    "from google_auth_oauthlib.flow import InstalledAppFlow\n",
    "from googleapiclient.discovery import build\n",
    "import requests\n",
    "\n",
    "# Set up the OAuth 2.0 flow\n",
    "flow = InstalledAppFlow.from_client_secrets_file(\n",
    "    '/Users/harshit/Downloads/client_secret_361278454891-sve6t24fgsham41fafeohos16b35sg3l.apps.googleusercontent.com.json',\n",
    "    scopes=['https://www.googleapis.com/auth/userinfo.profile',\n",
    "            'https://www.googleapis.com/auth/userinfo.email',\n",
    "            'https://www.googleapis.com/auth/gmail.readonly',\n",
    "            'https://www.googleapis.com/auth/business.manage',\n",
    "            'openid'],\n",
    "    redirect_uri='https://events-manager-six.vercel.app/pdp_screen.html'\n",
    ")\n",
    "\n",
    "# Start the OAuth 2.0 flow\n",
    "auth_url, _ = flow.authorization_url(prompt='consent')\n",
    "print('Please go to this URL to authorize access: {}'.format(auth_url))\n",
    "\n",
    "\n",
    "# auth_code = input('Enter the authorization code: ')\n",
    "\n",
    "# Exchange the authorization code for access and refresh tokens\n"
   ]
  },
  {
   "cell_type": "code",
   "execution_count": 2,
   "metadata": {},
   "outputs": [
    {
     "ename": "InvalidGrantError",
     "evalue": "(invalid_grant) Bad Request",
     "output_type": "error",
     "traceback": [
      "\u001b[0;31m---------------------------------------------------------------------------\u001b[0m",
      "\u001b[0;31mInvalidGrantError\u001b[0m                         Traceback (most recent call last)",
      "\u001b[0;32m/var/folders/4d/s11sxhsn7dzc6tyb3dx1b1th0000gn/T/ipykernel_973/4129422442.py\u001b[0m in \u001b[0;36m<module>\u001b[0;34m\u001b[0m\n\u001b[0;32m----> 1\u001b[0;31m \u001b[0mflow\u001b[0m\u001b[0;34m.\u001b[0m\u001b[0mfetch_token\u001b[0m\u001b[0;34m(\u001b[0m\u001b[0mcode\u001b[0m\u001b[0;34m=\u001b[0m\u001b[0;34m'4/0AZEOvhUHYuE38aPZb7sZ5tpo60JB-viQNN1xnvfcsqNeCzXVvwpYxudT3YWcSlvW-fAnyw'\u001b[0m\u001b[0;34m)\u001b[0m\u001b[0;34m\u001b[0m\u001b[0;34m\u001b[0m\u001b[0m\n\u001b[0m",
      "\u001b[0;32m~/opt/anaconda3/lib/python3.9/site-packages/google_auth_oauthlib/flow.py\u001b[0m in \u001b[0;36mfetch_token\u001b[0;34m(self, **kwargs)\u001b[0m\n\u001b[1;32m    283\u001b[0m         \u001b[0mkwargs\u001b[0m\u001b[0;34m.\u001b[0m\u001b[0msetdefault\u001b[0m\u001b[0;34m(\u001b[0m\u001b[0;34m\"client_secret\"\u001b[0m\u001b[0;34m,\u001b[0m \u001b[0mself\u001b[0m\u001b[0;34m.\u001b[0m\u001b[0mclient_config\u001b[0m\u001b[0;34m[\u001b[0m\u001b[0;34m\"client_secret\"\u001b[0m\u001b[0;34m]\u001b[0m\u001b[0;34m)\u001b[0m\u001b[0;34m\u001b[0m\u001b[0;34m\u001b[0m\u001b[0m\n\u001b[1;32m    284\u001b[0m         \u001b[0mkwargs\u001b[0m\u001b[0;34m.\u001b[0m\u001b[0msetdefault\u001b[0m\u001b[0;34m(\u001b[0m\u001b[0;34m\"code_verifier\"\u001b[0m\u001b[0;34m,\u001b[0m \u001b[0mself\u001b[0m\u001b[0;34m.\u001b[0m\u001b[0mcode_verifier\u001b[0m\u001b[0;34m)\u001b[0m\u001b[0;34m\u001b[0m\u001b[0;34m\u001b[0m\u001b[0m\n\u001b[0;32m--> 285\u001b[0;31m         \u001b[0;32mreturn\u001b[0m \u001b[0mself\u001b[0m\u001b[0;34m.\u001b[0m\u001b[0moauth2session\u001b[0m\u001b[0;34m.\u001b[0m\u001b[0mfetch_token\u001b[0m\u001b[0;34m(\u001b[0m\u001b[0mself\u001b[0m\u001b[0;34m.\u001b[0m\u001b[0mclient_config\u001b[0m\u001b[0;34m[\u001b[0m\u001b[0;34m\"token_uri\"\u001b[0m\u001b[0;34m]\u001b[0m\u001b[0;34m,\u001b[0m \u001b[0;34m**\u001b[0m\u001b[0mkwargs\u001b[0m\u001b[0;34m)\u001b[0m\u001b[0;34m\u001b[0m\u001b[0;34m\u001b[0m\u001b[0m\n\u001b[0m\u001b[1;32m    286\u001b[0m \u001b[0;34m\u001b[0m\u001b[0m\n\u001b[1;32m    287\u001b[0m     \u001b[0;34m@\u001b[0m\u001b[0mproperty\u001b[0m\u001b[0;34m\u001b[0m\u001b[0;34m\u001b[0m\u001b[0m\n",
      "\u001b[0;32m~/opt/anaconda3/lib/python3.9/site-packages/requests_oauthlib/oauth2_session.py\u001b[0m in \u001b[0;36mfetch_token\u001b[0;34m(self, token_url, code, authorization_response, body, auth, username, password, method, force_querystring, timeout, headers, verify, proxies, include_client_id, client_secret, cert, **kwargs)\u001b[0m\n\u001b[1;32m    364\u001b[0m             \u001b[0mr\u001b[0m \u001b[0;34m=\u001b[0m \u001b[0mhook\u001b[0m\u001b[0;34m(\u001b[0m\u001b[0mr\u001b[0m\u001b[0;34m)\u001b[0m\u001b[0;34m\u001b[0m\u001b[0;34m\u001b[0m\u001b[0m\n\u001b[1;32m    365\u001b[0m \u001b[0;34m\u001b[0m\u001b[0m\n\u001b[0;32m--> 366\u001b[0;31m         \u001b[0mself\u001b[0m\u001b[0;34m.\u001b[0m\u001b[0m_client\u001b[0m\u001b[0;34m.\u001b[0m\u001b[0mparse_request_body_response\u001b[0m\u001b[0;34m(\u001b[0m\u001b[0mr\u001b[0m\u001b[0;34m.\u001b[0m\u001b[0mtext\u001b[0m\u001b[0;34m,\u001b[0m \u001b[0mscope\u001b[0m\u001b[0;34m=\u001b[0m\u001b[0mself\u001b[0m\u001b[0;34m.\u001b[0m\u001b[0mscope\u001b[0m\u001b[0;34m)\u001b[0m\u001b[0;34m\u001b[0m\u001b[0;34m\u001b[0m\u001b[0m\n\u001b[0m\u001b[1;32m    367\u001b[0m         \u001b[0mself\u001b[0m\u001b[0;34m.\u001b[0m\u001b[0mtoken\u001b[0m \u001b[0;34m=\u001b[0m \u001b[0mself\u001b[0m\u001b[0;34m.\u001b[0m\u001b[0m_client\u001b[0m\u001b[0;34m.\u001b[0m\u001b[0mtoken\u001b[0m\u001b[0;34m\u001b[0m\u001b[0;34m\u001b[0m\u001b[0m\n\u001b[1;32m    368\u001b[0m         \u001b[0mlog\u001b[0m\u001b[0;34m.\u001b[0m\u001b[0mdebug\u001b[0m\u001b[0;34m(\u001b[0m\u001b[0;34m\"Obtained token %s.\"\u001b[0m\u001b[0;34m,\u001b[0m \u001b[0mself\u001b[0m\u001b[0;34m.\u001b[0m\u001b[0mtoken\u001b[0m\u001b[0;34m)\u001b[0m\u001b[0;34m\u001b[0m\u001b[0;34m\u001b[0m\u001b[0m\n",
      "\u001b[0;32m~/opt/anaconda3/lib/python3.9/site-packages/oauthlib/oauth2/rfc6749/clients/base.py\u001b[0m in \u001b[0;36mparse_request_body_response\u001b[0;34m(self, body, scope, **kwargs)\u001b[0m\n\u001b[1;32m    425\u001b[0m         \"\"\"\n\u001b[1;32m    426\u001b[0m         \u001b[0mscope\u001b[0m \u001b[0;34m=\u001b[0m \u001b[0mself\u001b[0m\u001b[0;34m.\u001b[0m\u001b[0mscope\u001b[0m \u001b[0;32mif\u001b[0m \u001b[0mscope\u001b[0m \u001b[0;32mis\u001b[0m \u001b[0;32mNone\u001b[0m \u001b[0;32melse\u001b[0m \u001b[0mscope\u001b[0m\u001b[0;34m\u001b[0m\u001b[0;34m\u001b[0m\u001b[0m\n\u001b[0;32m--> 427\u001b[0;31m         \u001b[0mself\u001b[0m\u001b[0;34m.\u001b[0m\u001b[0mtoken\u001b[0m \u001b[0;34m=\u001b[0m \u001b[0mparse_token_response\u001b[0m\u001b[0;34m(\u001b[0m\u001b[0mbody\u001b[0m\u001b[0;34m,\u001b[0m \u001b[0mscope\u001b[0m\u001b[0;34m=\u001b[0m\u001b[0mscope\u001b[0m\u001b[0;34m)\u001b[0m\u001b[0;34m\u001b[0m\u001b[0;34m\u001b[0m\u001b[0m\n\u001b[0m\u001b[1;32m    428\u001b[0m         \u001b[0mself\u001b[0m\u001b[0;34m.\u001b[0m\u001b[0mpopulate_token_attributes\u001b[0m\u001b[0;34m(\u001b[0m\u001b[0mself\u001b[0m\u001b[0;34m.\u001b[0m\u001b[0mtoken\u001b[0m\u001b[0;34m)\u001b[0m\u001b[0;34m\u001b[0m\u001b[0;34m\u001b[0m\u001b[0m\n\u001b[1;32m    429\u001b[0m         \u001b[0;32mreturn\u001b[0m \u001b[0mself\u001b[0m\u001b[0;34m.\u001b[0m\u001b[0mtoken\u001b[0m\u001b[0;34m\u001b[0m\u001b[0;34m\u001b[0m\u001b[0m\n",
      "\u001b[0;32m~/opt/anaconda3/lib/python3.9/site-packages/oauthlib/oauth2/rfc6749/parameters.py\u001b[0m in \u001b[0;36mparse_token_response\u001b[0;34m(body, scope)\u001b[0m\n\u001b[1;32m    439\u001b[0m \u001b[0;34m\u001b[0m\u001b[0m\n\u001b[1;32m    440\u001b[0m     \u001b[0mparams\u001b[0m \u001b[0;34m=\u001b[0m \u001b[0mOAuth2Token\u001b[0m\u001b[0;34m(\u001b[0m\u001b[0mparams\u001b[0m\u001b[0;34m,\u001b[0m \u001b[0mold_scope\u001b[0m\u001b[0;34m=\u001b[0m\u001b[0mscope\u001b[0m\u001b[0;34m)\u001b[0m\u001b[0;34m\u001b[0m\u001b[0;34m\u001b[0m\u001b[0m\n\u001b[0;32m--> 441\u001b[0;31m     \u001b[0mvalidate_token_parameters\u001b[0m\u001b[0;34m(\u001b[0m\u001b[0mparams\u001b[0m\u001b[0;34m)\u001b[0m\u001b[0;34m\u001b[0m\u001b[0;34m\u001b[0m\u001b[0m\n\u001b[0m\u001b[1;32m    442\u001b[0m     \u001b[0;32mreturn\u001b[0m \u001b[0mparams\u001b[0m\u001b[0;34m\u001b[0m\u001b[0;34m\u001b[0m\u001b[0m\n\u001b[1;32m    443\u001b[0m \u001b[0;34m\u001b[0m\u001b[0m\n",
      "\u001b[0;32m~/opt/anaconda3/lib/python3.9/site-packages/oauthlib/oauth2/rfc6749/parameters.py\u001b[0m in \u001b[0;36mvalidate_token_parameters\u001b[0;34m(params)\u001b[0m\n\u001b[1;32m    446\u001b[0m     \u001b[0;34m\"\"\"Ensures token presence, token type, expiration and scope in params.\"\"\"\u001b[0m\u001b[0;34m\u001b[0m\u001b[0;34m\u001b[0m\u001b[0m\n\u001b[1;32m    447\u001b[0m     \u001b[0;32mif\u001b[0m \u001b[0;34m'error'\u001b[0m \u001b[0;32min\u001b[0m \u001b[0mparams\u001b[0m\u001b[0;34m:\u001b[0m\u001b[0;34m\u001b[0m\u001b[0;34m\u001b[0m\u001b[0m\n\u001b[0;32m--> 448\u001b[0;31m         \u001b[0mraise_from_error\u001b[0m\u001b[0;34m(\u001b[0m\u001b[0mparams\u001b[0m\u001b[0;34m.\u001b[0m\u001b[0mget\u001b[0m\u001b[0;34m(\u001b[0m\u001b[0;34m'error'\u001b[0m\u001b[0;34m)\u001b[0m\u001b[0;34m,\u001b[0m \u001b[0mparams\u001b[0m\u001b[0;34m)\u001b[0m\u001b[0;34m\u001b[0m\u001b[0;34m\u001b[0m\u001b[0m\n\u001b[0m\u001b[1;32m    449\u001b[0m \u001b[0;34m\u001b[0m\u001b[0m\n\u001b[1;32m    450\u001b[0m     \u001b[0;32mif\u001b[0m \u001b[0;32mnot\u001b[0m \u001b[0;34m'access_token'\u001b[0m \u001b[0;32min\u001b[0m \u001b[0mparams\u001b[0m\u001b[0;34m:\u001b[0m\u001b[0;34m\u001b[0m\u001b[0;34m\u001b[0m\u001b[0m\n",
      "\u001b[0;32m~/opt/anaconda3/lib/python3.9/site-packages/oauthlib/oauth2/rfc6749/errors.py\u001b[0m in \u001b[0;36mraise_from_error\u001b[0;34m(error, params)\u001b[0m\n\u001b[1;32m    397\u001b[0m     \u001b[0;32mfor\u001b[0m \u001b[0m_\u001b[0m\u001b[0;34m,\u001b[0m \u001b[0mcls\u001b[0m \u001b[0;32min\u001b[0m \u001b[0minspect\u001b[0m\u001b[0;34m.\u001b[0m\u001b[0mgetmembers\u001b[0m\u001b[0;34m(\u001b[0m\u001b[0msys\u001b[0m\u001b[0;34m.\u001b[0m\u001b[0mmodules\u001b[0m\u001b[0;34m[\u001b[0m\u001b[0m__name__\u001b[0m\u001b[0;34m]\u001b[0m\u001b[0;34m,\u001b[0m \u001b[0minspect\u001b[0m\u001b[0;34m.\u001b[0m\u001b[0misclass\u001b[0m\u001b[0;34m)\u001b[0m\u001b[0;34m:\u001b[0m\u001b[0;34m\u001b[0m\u001b[0;34m\u001b[0m\u001b[0m\n\u001b[1;32m    398\u001b[0m         \u001b[0;32mif\u001b[0m \u001b[0mcls\u001b[0m\u001b[0;34m.\u001b[0m\u001b[0merror\u001b[0m \u001b[0;34m==\u001b[0m \u001b[0merror\u001b[0m\u001b[0;34m:\u001b[0m\u001b[0;34m\u001b[0m\u001b[0;34m\u001b[0m\u001b[0m\n\u001b[0;32m--> 399\u001b[0;31m             \u001b[0;32mraise\u001b[0m \u001b[0mcls\u001b[0m\u001b[0;34m(\u001b[0m\u001b[0;34m**\u001b[0m\u001b[0mkwargs\u001b[0m\u001b[0;34m)\u001b[0m\u001b[0;34m\u001b[0m\u001b[0;34m\u001b[0m\u001b[0m\n\u001b[0m\u001b[1;32m    400\u001b[0m     \u001b[0;32mraise\u001b[0m \u001b[0mCustomOAuth2Error\u001b[0m\u001b[0;34m(\u001b[0m\u001b[0merror\u001b[0m\u001b[0;34m=\u001b[0m\u001b[0merror\u001b[0m\u001b[0;34m,\u001b[0m \u001b[0;34m**\u001b[0m\u001b[0mkwargs\u001b[0m\u001b[0;34m)\u001b[0m\u001b[0;34m\u001b[0m\u001b[0;34m\u001b[0m\u001b[0m\n",
      "\u001b[0;31mInvalidGrantError\u001b[0m: (invalid_grant) Bad Request"
     ]
    }
   ],
   "source": [
    "flow.fetch_token(code='4/0AZEOvhUHYuE38aPZb7sZ5tpo60JB-viQNN1xnvfcsqNeCzXVvwpYxudT3YWcSlvW-fAnyw')"
   ]
  },
  {
   "cell_type": "code",
   "execution_count": 15,
   "metadata": {},
   "outputs": [
    {
     "ename": "ValueError",
     "evalue": "There is no access token for this session, did you call fetch_token?",
     "output_type": "error",
     "traceback": [
      "\u001b[0;31m---------------------------------------------------------------------------\u001b[0m",
      "\u001b[0;31mValueError\u001b[0m                                Traceback (most recent call last)",
      "\u001b[0;32m/var/folders/4d/s11sxhsn7dzc6tyb3dx1b1th0000gn/T/ipykernel_1759/3908095512.py\u001b[0m in \u001b[0;36m<module>\u001b[0;34m\u001b[0m\n\u001b[1;32m      1\u001b[0m \u001b[0;32mimport\u001b[0m \u001b[0mjson\u001b[0m\u001b[0;34m\u001b[0m\u001b[0;34m\u001b[0m\u001b[0m\n\u001b[1;32m      2\u001b[0m \u001b[0;31m# Build the People API client using the access token\u001b[0m\u001b[0;34m\u001b[0m\u001b[0;34m\u001b[0m\u001b[0m\n\u001b[0;32m----> 3\u001b[0;31m \u001b[0mcredentials_info\u001b[0m \u001b[0;34m=\u001b[0m \u001b[0mjson\u001b[0m\u001b[0;34m.\u001b[0m\u001b[0mloads\u001b[0m\u001b[0;34m(\u001b[0m\u001b[0mflow\u001b[0m\u001b[0;34m.\u001b[0m\u001b[0mcredentials\u001b[0m\u001b[0;34m.\u001b[0m\u001b[0mto_json\u001b[0m\u001b[0;34m(\u001b[0m\u001b[0;34m)\u001b[0m\u001b[0;34m)\u001b[0m\u001b[0;34m\u001b[0m\u001b[0;34m\u001b[0m\u001b[0m\n\u001b[0m\u001b[1;32m      4\u001b[0m \u001b[0mcrd\u001b[0m \u001b[0;34m=\u001b[0m \u001b[0mCredentials\u001b[0m\u001b[0;34m.\u001b[0m\u001b[0mfrom_authorized_user_info\u001b[0m\u001b[0;34m(\u001b[0m\u001b[0minfo\u001b[0m\u001b[0;34m=\u001b[0m\u001b[0mcredentials_info\u001b[0m\u001b[0;34m)\u001b[0m\u001b[0;34m\u001b[0m\u001b[0;34m\u001b[0m\u001b[0m\n\u001b[1;32m      5\u001b[0m \u001b[0mpeople_service\u001b[0m \u001b[0;34m=\u001b[0m \u001b[0mbuild\u001b[0m\u001b[0;34m(\u001b[0m\u001b[0;34m'people'\u001b[0m\u001b[0;34m,\u001b[0m \u001b[0;34m'v1'\u001b[0m\u001b[0;34m,\u001b[0m \u001b[0mcredentials\u001b[0m\u001b[0;34m=\u001b[0m\u001b[0mcrd\u001b[0m\u001b[0;34m)\u001b[0m\u001b[0;34m\u001b[0m\u001b[0;34m\u001b[0m\u001b[0m\n",
      "\u001b[0;32m~/opt/anaconda3/lib/python3.9/site-packages/google_auth_oauthlib/flow.py\u001b[0m in \u001b[0;36mcredentials\u001b[0;34m(self)\u001b[0m\n\u001b[1;32m    299\u001b[0m             \u001b[0mValueError\u001b[0m\u001b[0;34m:\u001b[0m \u001b[0mIf\u001b[0m \u001b[0mthere\u001b[0m \u001b[0;32mis\u001b[0m \u001b[0mno\u001b[0m \u001b[0maccess\u001b[0m \u001b[0mtoken\u001b[0m \u001b[0;32min\u001b[0m \u001b[0mthe\u001b[0m \u001b[0msession\u001b[0m\u001b[0;34m.\u001b[0m\u001b[0;34m\u001b[0m\u001b[0;34m\u001b[0m\u001b[0m\n\u001b[1;32m    300\u001b[0m         \"\"\"\n\u001b[0;32m--> 301\u001b[0;31m         return google_auth_oauthlib.helpers.credentials_from_session(\n\u001b[0m\u001b[1;32m    302\u001b[0m             \u001b[0mself\u001b[0m\u001b[0;34m.\u001b[0m\u001b[0moauth2session\u001b[0m\u001b[0;34m,\u001b[0m \u001b[0mself\u001b[0m\u001b[0;34m.\u001b[0m\u001b[0mclient_config\u001b[0m\u001b[0;34m\u001b[0m\u001b[0;34m\u001b[0m\u001b[0m\n\u001b[1;32m    303\u001b[0m         )\n",
      "\u001b[0;32m~/opt/anaconda3/lib/python3.9/site-packages/google_auth_oauthlib/helpers.py\u001b[0m in \u001b[0;36mcredentials_from_session\u001b[0;34m(session, client_config)\u001b[0m\n\u001b[1;32m    123\u001b[0m \u001b[0;34m\u001b[0m\u001b[0m\n\u001b[1;32m    124\u001b[0m     \u001b[0;32mif\u001b[0m \u001b[0;32mnot\u001b[0m \u001b[0msession\u001b[0m\u001b[0;34m.\u001b[0m\u001b[0mtoken\u001b[0m\u001b[0;34m:\u001b[0m\u001b[0;34m\u001b[0m\u001b[0;34m\u001b[0m\u001b[0m\n\u001b[0;32m--> 125\u001b[0;31m         raise ValueError(\n\u001b[0m\u001b[1;32m    126\u001b[0m             \u001b[0;34m\"There is no access token for this session, did you call \"\u001b[0m \u001b[0;34m\"fetch_token?\"\u001b[0m\u001b[0;34m\u001b[0m\u001b[0;34m\u001b[0m\u001b[0m\n\u001b[1;32m    127\u001b[0m         )\n",
      "\u001b[0;31mValueError\u001b[0m: There is no access token for this session, did you call fetch_token?"
     ]
    }
   ],
   "source": [
    "import json\n",
    "# Build the People API client using the access token\n",
    "credentials_info = json.loads(flow.credentials.to_json())\n",
    "crd = Credentials.from_authorized_user_info(info=credentials_info)\n",
    "people_service = build('people', 'v1', credentials=crd)\n",
    "\n",
    "# Retrieve the user's email and name\n",
    "user_profile = people_service.people().get(resourceName='people/me', personFields='emailAddresses,names,addresses,birthdays,coverPhotos,genders,imClients,locales,metadata,phoneNumbers,photos,residences,taglines,urls').execute()\n",
    "print('Email: {}'.format(user_profile['emailAddresses'][0]['value']))\n",
    "print('Name: {}'.format(user_profile['names'][0]['displayName']))\n",
    "print('Profile Photo: {}'.format(user_profile['photos'][0]['url']))\n",
    "# print('Phone: {}'.format(user_profile['phoneNumbers'][0]['displayName']))\n",
    "# print('metadata: {}'.format(user_profile['metadata'][0]['metadata']))"
   ]
  },
  {
   "cell_type": "code",
   "execution_count": 16,
   "metadata": {},
   "outputs": [
    {
     "data": {
      "text/plain": [
       "{'resourceName': 'people/111372045860486327403',\n",
       " 'etag': '%EhUBAgMEBgcICQsPEBQZJS41Nz0+P0AaBAECBQc=',\n",
       " 'metadata': {'sources': [{'type': 'PROFILE',\n",
       "    'id': '111372045860486327403',\n",
       "    'etag': '#y+m1H47/8Ko=',\n",
       "    'profileMetadata': {'objectType': 'PERSON',\n",
       "     'userTypes': ['GOOGLE_USER', 'GOOGLE_APPS_USER']},\n",
       "    'updateTime': '2023-03-20T05:26:45.883809Z'},\n",
       "   {'type': 'DOMAIN_PROFILE',\n",
       "    'id': '111372045860486327403',\n",
       "    'etag': '#y+m1H47/8Ko=',\n",
       "    'updateTime': '2023-03-20T05:26:45.883809Z'}],\n",
       "  'objectType': 'PERSON'},\n",
       " 'locales': [{'metadata': {'primary': True,\n",
       "    'source': {'type': 'ACCOUNT', 'id': '111372045860486327403'}},\n",
       "   'value': 'en-GB'}],\n",
       " 'names': [{'metadata': {'primary': True,\n",
       "    'source': {'type': 'DOMAIN_PROFILE', 'id': '111372045860486327403'},\n",
       "    'sourcePrimary': True},\n",
       "   'displayName': 'Harshit Lohia',\n",
       "   'familyName': 'Lohia',\n",
       "   'givenName': 'Harshit',\n",
       "   'displayNameLastFirst': 'Lohia, Harshit',\n",
       "   'unstructuredName': 'Harshit Lohia'}],\n",
       " 'coverPhotos': [{'metadata': {'primary': True,\n",
       "    'source': {'type': 'PROFILE', 'id': '111372045860486327403'}},\n",
       "   'url': 'https://lh3.googleusercontent.com/c5dqxl-2uHZ82ah9p7yxrVF1ZssrJNSV_15Nu0TUZwzCWqmtoLxCUJgEzLGtxsrJ6-v6R6rKU_-FYm881TTiMCJ_=s1600',\n",
       "   'default': True}],\n",
       " 'photos': [{'metadata': {'primary': True,\n",
       "    'source': {'type': 'PROFILE', 'id': '111372045860486327403'}},\n",
       "   'url': 'https://lh3.googleusercontent.com/a/AAcHTtfUmXqJaF5VdiGDT6Hl_9x4yuYgtaiCLlmhGZpH=s100',\n",
       "   'default': True}],\n",
       " 'emailAddresses': [{'metadata': {'primary': True,\n",
       "    'verified': True,\n",
       "    'source': {'type': 'DOMAIN_PROFILE', 'id': '111372045860486327403'},\n",
       "    'sourcePrimary': True},\n",
       "   'value': 'harshit@goldsetu.co'}]}"
      ]
     },
     "execution_count": 16,
     "metadata": {},
     "output_type": "execute_result"
    }
   ],
   "source": [
    "user_profile"
   ]
  },
  {
   "cell_type": "code",
   "execution_count": 17,
   "metadata": {},
   "outputs": [
    {
     "name": "stdout",
     "output_type": "stream",
     "text": [
      "{'resourceName': 'people/111372045860486327403', 'etag': '%EhUBAgMEBgcICQsPEBQZJS41Nz0+P0AaBAECBQc=', 'metadata': {'sources': [{'type': 'PROFILE', 'id': '111372045860486327403', 'etag': '#y+m1H47/8Ko=', 'profileMetadata': {'objectType': 'PERSON', 'userTypes': ['GOOGLE_USER', 'GOOGLE_APPS_USER']}, 'updateTime': '2023-03-20T05:26:45.883809Z'}, {'type': 'DOMAIN_PROFILE', 'id': '111372045860486327403', 'etag': '#y+m1H47/8Ko=', 'updateTime': '2023-03-20T05:26:45.883809Z'}], 'objectType': 'PERSON'}, 'locales': [{'metadata': {'primary': True, 'source': {'type': 'ACCOUNT', 'id': '111372045860486327403'}}, 'value': 'en-GB'}], 'names': [{'metadata': {'primary': True, 'source': {'type': 'DOMAIN_PROFILE', 'id': '111372045860486327403'}, 'sourcePrimary': True}, 'displayName': 'Harshit Lohia', 'familyName': 'Lohia', 'givenName': 'Harshit', 'displayNameLastFirst': 'Lohia, Harshit', 'unstructuredName': 'Harshit Lohia'}], 'coverPhotos': [{'metadata': {'primary': True, 'source': {'type': 'PROFILE', 'id': '111372045860486327403'}}, 'url': 'https://lh3.googleusercontent.com/c5dqxl-2uHZ82ah9p7yxrVF1ZssrJNSV_15Nu0TUZwzCWqmtoLxCUJgEzLGtxsrJ6-v6R6rKU_-FYm881TTiMCJ_=s1600', 'default': True}], 'photos': [{'metadata': {'primary': True, 'source': {'type': 'PROFILE', 'id': '111372045860486327403'}}, 'url': 'https://lh3.googleusercontent.com/a/AAcHTtfUmXqJaF5VdiGDT6Hl_9x4yuYgtaiCLlmhGZpH=s100', 'default': True}], 'emailAddresses': [{'metadata': {'primary': True, 'verified': True, 'source': {'type': 'DOMAIN_PROFILE', 'id': '111372045860486327403'}, 'sourcePrimary': True}, 'value': 'harshitd@goldsetu.co'}]}\n",
      "jsonresponse-- {'message': 'No Document to modify'}\n",
      "No Document to modify\n"
     ]
    }
   ],
   "source": [
    "import requests\n",
    "\n",
    "url = 'http://127.0.0.1:8000/user_email_update/'  # Replace with your API URL\n",
    "\n",
    "data = {\"resourceName\": \"people/111372045860486327403\",\n",
    " \"etag\": \"%EhUBAgMEBgcICQsPEBQZJS41Nz0+P0AaBAECBQc=\",\n",
    " \"metadata\": {\"sources\": [{\"type\": \"PROFILE\",\n",
    "    \"id\": \"111372045860486327403\",\n",
    "    \"etag\": \"#y+m1H47/8Ko=\",\n",
    "    \"profileMetadata\": {\"objectType\": \"PERSON\",\n",
    "     \"userTypes\": [\"GOOGLE_USER\", \"GOOGLE_APPS_USER\"]},\n",
    "    \"updateTime\": \"2023-03-20T05:26:45.883809Z\"},\n",
    "   {\"type\": \"DOMAIN_PROFILE\",\n",
    "    \"id\": \"111372045860486327403\",\n",
    "    \"etag\": \"#y+m1H47/8Ko=\",\n",
    "    \"updateTime\": \"2023-03-20T05:26:45.883809Z\"}],\n",
    "  \"objectType\": \"PERSON\"},\n",
    " \"locales\": [{\"metadata\": {\"primary\": True,\n",
    "    \"source\": {\"type\": \"ACCOUNT\", \"id\": \"111372045860486327403\"}},\n",
    "   \"value\": \"en-GB\"}],\n",
    " \"names\": [{\"metadata\": {\"primary\": True,\n",
    "    \"source\": {\"type\": \"DOMAIN_PROFILE\", \"id\": \"111372045860486327403\"},\n",
    "    \"sourcePrimary\": True},\n",
    "   \"displayName\": \"Harshit Lohia\",\n",
    "   \"familyName\": \"Lohia\",\n",
    "   \"givenName\": \"Harshit\",\n",
    "   \"displayNameLastFirst\": \"Lohia, Harshit\",\n",
    "   \"unstructuredName\": \"Harshit Lohia\"}],\n",
    " \"coverPhotos\": [{\"metadata\": {\"primary\": True,\n",
    "    \"source\": {\"type\": \"PROFILE\", \"id\": \"111372045860486327403\"}},\n",
    "   \"url\": \"https://lh3.googleusercontent.com/c5dqxl-2uHZ82ah9p7yxrVF1ZssrJNSV_15Nu0TUZwzCWqmtoLxCUJgEzLGtxsrJ6-v6R6rKU_-FYm881TTiMCJ_=s1600\",\n",
    "   \"default\": True}],\n",
    " \"photos\": [{\"metadata\": {\"primary\": True,\n",
    "    \"source\": {\"type\": \"PROFILE\", \"id\": \"111372045860486327403\"}},\n",
    "   \"url\": \"https://lh3.googleusercontent.com/a/AAcHTtfUmXqJaF5VdiGDT6Hl_9x4yuYgtaiCLlmhGZpH=s100\",\n",
    "   \"default\": True}],\n",
    " \"emailAddresses\": [{\"metadata\": {\"primary\": True,\n",
    "    \"verified\": True,\n",
    "    \"source\": {\"type\": \"DOMAIN_PROFILE\", \"id\": \"111372045860486327403\"},\n",
    "    \"sourcePrimary\": True},\n",
    "   \"value\": \"harshitd@goldsetu.co\"}]}\n",
    "\n",
    "# Send the POST request\n",
    "response = requests.post(url, json=data)\n",
    "print(data)\n",
    "\n",
    "# Check the response status code\n",
    "if response.status_code == 200:\n",
    "    # Request was successful\n",
    "    json_response = response.json()\n",
    "    print(\"jsonresponse--\", json_response)\n",
    "    print(json_response[\"message\"])\n",
    "   \n",
    "else:\n",
    "    # Request encountered an error\n",
    "    print('Request failed with status code:', response.status_code)"
   ]
  },
  {
   "cell_type": "code",
   "execution_count": 12,
   "metadata": {},
   "outputs": [
    {
     "name": "stdout",
     "output_type": "stream",
     "text": [
      "Request successful!\n",
      "Response: {'statusCode': '200', 'statusDesc': 'Successfully Accepted', 'mid': '410184630707122832120355'}\n",
      "Request successful!\n",
      "Response: {'statusCode': '200', 'statusDesc': 'Successfully Accepted', 'mid': '410182530707122832337357'}\n",
      "Request successful!\n",
      "Response: {'statusCode': '200', 'statusDesc': 'Successfully Accepted', 'mid': '410185130707122832560916'}\n",
      "Request successful!\n",
      "Response: {'statusCode': '200', 'statusDesc': 'Successfully Accepted', 'mid': '410182730707122832795045'}\n",
      "Request successful!\n",
      "Response: {'statusCode': '200', 'statusDesc': 'Successfully Accepted', 'mid': '410185130707122833028987'}\n"
     ]
    }
   ],
   "source": [
    "import requests\n",
    "\n",
    "# URL and endpoint for the request\n",
    "url = \"https://rcmapi.instaalerts.zone/services/rcm/sendMessage\"\n",
    "for i in range(0,5):\n",
    "    # Request payload\n",
    "    payload = {\n",
    "    \"message\": {\n",
    "    \"channel\": \"WABA\",\n",
    "    \"content\": {\n",
    "    \"preview_url\": False,\n",
    "    \"type\": \"MEDIA_TEMPLATE\",\n",
    "    \"mediaTemplate\": {\n",
    "    \"templateId\": \"unsatisfactory2\"\n",
    "    }\n",
    "    },\n",
    "    \"recipient\": {\n",
    "    \"to\": \"918860901695\",\n",
    "    \"recipient_type\": \"individual\"\n",
    "    },\n",
    "    \"sender\": {\n",
    "    \"from\": \"918800049798\"\n",
    "    },\n",
    "    \"preferences\": {\n",
    "    \"webHookDNId\": \"1001\"\n",
    "    }\n",
    "    },\n",
    "    \"metaData\": {\n",
    "    \"version\": \"v1.0.9\"\n",
    "    }\n",
    "    }\n",
    "\n",
    "    # Bearer token\n",
    "\n",
    "\n",
    "    # Headers\n",
    "    headers = {\n",
    "        \"Authentication\": \"Bearer l7M8ZIwXASEtRS0nE2481Q==\",\n",
    "        \"Content-Type\": \"application/json\"  # Set the desired content type\n",
    "    }\n",
    "\n",
    "    # Send the POST request with authentication and headers\n",
    "    response = requests.post(url, json=payload, headers=headers)\n",
    "\n",
    "    # Process the response\n",
    "    if response.status_code == 200:\n",
    "        # Request succeeded\n",
    "        print(\"Request successful!\")\n",
    "        print(\"Response:\", response.json())\n",
    "    else:\n",
    "        # Request failed\n",
    "        print(\"Request failed with status code:\", response.status_code)\n",
    "        print(\"Error message:\", response.text)\n"
   ]
  },
  {
   "cell_type": "code",
   "execution_count": 14,
   "metadata": {},
   "outputs": [
    {
     "name": "stdout",
     "output_type": "stream",
     "text": [
      "it is none\n"
     ]
    }
   ],
   "source": []
  },
  {
   "cell_type": "code",
   "execution_count": 18,
   "metadata": {
    "vscode": {
     "languageId": "javascript"
    }
   },
   "outputs": [
    {
     "ename": "SyntaxError",
     "evalue": "invalid syntax (3971667090.py, line 1)",
     "output_type": "error",
     "traceback": [
      "\u001b[0;36m  File \u001b[0;32m\"/var/folders/4d/s11sxhsn7dzc6tyb3dx1b1th0000gn/T/ipykernel_724/3971667090.py\"\u001b[0;36m, line \u001b[0;32m1\u001b[0m\n\u001b[0;31m    import { getAuth } from \"firebase/auth\";\u001b[0m\n\u001b[0m           ^\u001b[0m\n\u001b[0;31mSyntaxError\u001b[0m\u001b[0;31m:\u001b[0m invalid syntax\n"
     ]
    }
   ],
   "source": [
    "import { getAuth } from \"firebase/auth\";\n",
    "\n",
    "const auth = getAuth();\n",
    "auth.languageCode = 'it';\n",
    "// To apply the default browser preference instead of explicitly setting it.\n",
    "// firebase.auth().useDeviceLanguage();\n"
   ]
  },
  {
   "cell_type": "code",
   "execution_count": null,
   "metadata": {},
   "outputs": [],
   "source": []
  }
 ],
 "metadata": {
  "kernelspec": {
   "display_name": "base",
   "language": "python",
   "name": "python3"
  },
  "language_info": {
   "codemirror_mode": {
    "name": "ipython",
    "version": 3
   },
   "file_extension": ".py",
   "mimetype": "text/x-python",
   "name": "python",
   "nbconvert_exporter": "python",
   "pygments_lexer": "ipython3",
   "version": "3.9.13"
  },
  "orig_nbformat": 4
 },
 "nbformat": 4,
 "nbformat_minor": 2
}
