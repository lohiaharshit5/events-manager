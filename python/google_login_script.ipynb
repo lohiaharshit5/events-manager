{
 "cells": [
  {
   "cell_type": "code",
   "execution_count": 2,
   "metadata": {},
   "outputs": [
    {
     "name": "stdout",
     "output_type": "stream",
     "text": [
      "Please go to this URL to authorize access: https://accounts.google.com/o/oauth2/auth?response_type=code&client_id=361278454891-sve6t24fgsham41fafeohos16b35sg3l.apps.googleusercontent.com&redirect_uri=https%3A%2F%2Fevents-manager-six.vercel.app%2Fpdp_screen.html&scope=https%3A%2F%2Fwww.googleapis.com%2Fauth%2Fuserinfo.profile+https%3A%2F%2Fwww.googleapis.com%2Fauth%2Fuserinfo.email+https%3A%2F%2Fwww.googleapis.com%2Fauth%2Fgmail.readonly+https%3A%2F%2Fwww.googleapis.com%2Fauth%2Fbusiness.manage+openid&state=Px6Sb4XJgDvmjRxEejHKs18WGFxY7a&prompt=consent&access_type=offline\n"
     ]
    }
   ],
   "source": [
    "#correct\n",
    "from google.oauth2.credentials import Credentials\n",
    "from google_auth_oauthlib.flow import InstalledAppFlow\n",
    "from googleapiclient.discovery import build\n",
    "import requests\n",
    "\n",
    "# Set up the OAuth 2.0 flow\n",
    "flow = InstalledAppFlow.from_client_secrets_file(\n",
    "    '/Users/harshit/Downloads/client_secret_361278454891-sve6t24fgsham41fafeohos16b35sg3l.apps.googleusercontent.com.json',\n",
    "    scopes=['https://www.googleapis.com/auth/userinfo.profile',\n",
    "            'https://www.googleapis.com/auth/userinfo.email',\n",
    "            'https://www.googleapis.com/auth/gmail.readonly',\n",
    "            'https://www.googleapis.com/auth/business.manage',\n",
    "            'openid'],\n",
    "    redirect_uri='https://events-manager-six.vercel.app/pdp_screen.html'\n",
    ")\n",
    "\n",
    "# Start the OAuth 2.0 flow\n",
    "auth_url, _ = flow.authorization_url(prompt='consent')\n",
    "print('Please go to this URL to authorize access: {}'.format(auth_url))\n",
    "\n",
    "\n",
    "# auth_code = input('Enter the authorization code: ')\n",
    "\n",
    "# Exchange the authorization code for access and refresh tokens\n"
   ]
  },
  {
   "cell_type": "code",
   "execution_count": 3,
   "metadata": {},
   "outputs": [
    {
     "data": {
      "text/plain": [
       "{'access_token': 'ya29.a0AWY7CkkRiyfNIpk1PRH59kPOnNOjIB9_vJ4dAxIwyf-uctiDFrzLgGs84sNsK5H6kmC9wNA36L5eVrE6Mwe1QPcLDViVQF903t8V6c76JKA8CuNE3qm1dK0tEA2ROghiMBwFNj1yGRWuk1Q02cWKCgQEoc7caCgYKAcsSARMSFQG1tDrpEyA5owCB9Q6sPGoO-yy53Q0163',\n",
       " 'expires_in': 3599,\n",
       " 'refresh_token': '1//0gxr93egazXiKCgYIARAAGBASNwF-L9IrcTQxVGEM5IZTXEKa2hP9IZyBrrIXgzbwfbV5GbSUCIdzGtiNMGT0Sw-TQB7nemWT-l4',\n",
       " 'scope': ['openid',\n",
       "  'https://www.googleapis.com/auth/userinfo.profile',\n",
       "  'https://www.googleapis.com/auth/userinfo.email',\n",
       "  'https://www.googleapis.com/auth/business.manage',\n",
       "  'https://www.googleapis.com/auth/gmail.readonly'],\n",
       " 'token_type': 'Bearer',\n",
       " 'id_token': 'eyJhbGciOiJSUzI1NiIsImtpZCI6Ijk5YmNiMDY5MzQwYTNmMTQ3NDYyNzk0ZGZlZmE3NWU3OTk2MTM2MzQiLCJ0eXAiOiJKV1QifQ.eyJpc3MiOiJodHRwczovL2FjY291bnRzLmdvb2dsZS5jb20iLCJhenAiOiIzNjEyNzg0NTQ4OTEtc3ZlNnQyNGZnc2hhbTQxZmFmZW9ob3MxNmIzNXNnM2wuYXBwcy5nb29nbGV1c2VyY29udGVudC5jb20iLCJhdWQiOiIzNjEyNzg0NTQ4OTEtc3ZlNnQyNGZnc2hhbTQxZmFmZW9ob3MxNmIzNXNnM2wuYXBwcy5nb29nbGV1c2VyY29udGVudC5jb20iLCJzdWIiOiIxMTE5MTYyNTg2OTI4MDcwMzc1NDYiLCJlbWFpbCI6ImxvaGlhaGFyc2hpdEBnbWFpbC5jb20iLCJlbWFpbF92ZXJpZmllZCI6dHJ1ZSwiYXRfaGFzaCI6IjNULW5aa0pDZlJ6SzBRZUNZN0JpV3ciLCJuYW1lIjoiSGFyc2hpdCBMb2hpYSIsInBpY3R1cmUiOiJodHRwczovL2xoMy5nb29nbGV1c2VyY29udGVudC5jb20vYS9BQWNIVHRlZVJUM2dISFVERzBkSjEyTUpyZDVaMEpGVHVLOElLUEU4cGVDYS1PSGE9czk2LWMiLCJnaXZlbl9uYW1lIjoiSGFyc2hpdCIsImZhbWlseV9uYW1lIjoiTG9oaWEiLCJsb2NhbGUiOiJlbiIsImlhdCI6MTY4NzY4NjE4NSwiZXhwIjoxNjg3Njg5Nzg1fQ.D6vGOXiCEtQ4GbWWtWbH8iHJvLxYkInJpuaunCvbi5yXrZtPZbS-gMIQcqH5QUIjq9N12IeTYJzJ2evRGmO9j31eD5pSTeHiLMKAknPiVjEL_VICTXRRY1firG6IxPK6VLAZW-yqzhBGYvq-7ia775SmPtIUu9NGApl2g9CexiLvF2AieN1tsbK6ttw9oU6ugfBVXQWL21DgqL75fSK3Nc-u6pPVf6VLSDCIos6omHe0tM5cO1iOW70cSVA7vgsIPKvzEgiLNfHtRj3GqP-eZmQV473bs2FdGBhHfp4BAkKUCbd6k2EwRyHnbmzNCXKL3DNuausVP9u9lk3Pymb9uw',\n",
       " 'expires_at': 1687689784.6232378}"
      ]
     },
     "execution_count": 3,
     "metadata": {},
     "output_type": "execute_result"
    }
   ],
   "source": [
    "flow.fetch_token(code='4/0AbUR2VOEfzKM4-G0jwYTGVvB4ObU9ciYstrssnfxYX0n-MYV7GZ99f3HPZr4HCsFvYXTzQ')"
   ]
  },
  {
   "cell_type": "code",
   "execution_count": 4,
   "metadata": {},
   "outputs": [
    {
     "name": "stdout",
     "output_type": "stream",
     "text": [
      "Email: lohiaharshit@gmail.com\n",
      "Name: Harshit Lohia\n",
      "Profile Photo: https://lh3.googleusercontent.com/a/AAcHTteeRT3gHHUDG0dJ12MJrd5Z0JFTuK8IKPE8peCa-OHa=s100\n"
     ]
    }
   ],
   "source": [
    "import json\n",
    "# Build the People API client using the access token\n",
    "credentials_info = json.loads(flow.credentials.to_json())\n",
    "crd = Credentials.from_authorized_user_info(info=credentials_info)\n",
    "people_service = build('people', 'v1', credentials=crd)\n",
    "\n",
    "# Retrieve the user's email and name\n",
    "user_profile = people_service.people().get(resourceName='people/me', personFields='emailAddresses,names,addresses,birthdays,coverPhotos,genders,imClients,locales,metadata,phoneNumbers,photos,residences,taglines,urls').execute()\n",
    "print('Email: {}'.format(user_profile['emailAddresses'][0]['value']))\n",
    "print('Name: {}'.format(user_profile['names'][0]['displayName']))\n",
    "print('Profile Photo: {}'.format(user_profile['photos'][0]['url']))\n",
    "# print('Phone: {}'.format(user_profile['phoneNumbers'][0]['displayName']))\n",
    "# print('metadata: {}'.format(user_profile['metadata'][0]['metadata']))"
   ]
  },
  {
   "cell_type": "code",
   "execution_count": 16,
   "metadata": {},
   "outputs": [
    {
     "data": {
      "text/plain": [
       "{'resourceName': 'people/111372045860486327403',\n",
       " 'etag': '%EhUBAgMEBgcICQsPEBQZJS41Nz0+P0AaBAECBQc=',\n",
       " 'metadata': {'sources': [{'type': 'PROFILE',\n",
       "    'id': '111372045860486327403',\n",
       "    'etag': '#y+m1H47/8Ko=',\n",
       "    'profileMetadata': {'objectType': 'PERSON',\n",
       "     'userTypes': ['GOOGLE_USER', 'GOOGLE_APPS_USER']},\n",
       "    'updateTime': '2023-03-20T05:26:45.883809Z'},\n",
       "   {'type': 'DOMAIN_PROFILE',\n",
       "    'id': '111372045860486327403',\n",
       "    'etag': '#y+m1H47/8Ko=',\n",
       "    'updateTime': '2023-03-20T05:26:45.883809Z'}],\n",
       "  'objectType': 'PERSON'},\n",
       " 'locales': [{'metadata': {'primary': True,\n",
       "    'source': {'type': 'ACCOUNT', 'id': '111372045860486327403'}},\n",
       "   'value': 'en-GB'}],\n",
       " 'names': [{'metadata': {'primary': True,\n",
       "    'source': {'type': 'DOMAIN_PROFILE', 'id': '111372045860486327403'},\n",
       "    'sourcePrimary': True},\n",
       "   'displayName': 'Harshit Lohia',\n",
       "   'familyName': 'Lohia',\n",
       "   'givenName': 'Harshit',\n",
       "   'displayNameLastFirst': 'Lohia, Harshit',\n",
       "   'unstructuredName': 'Harshit Lohia'}],\n",
       " 'coverPhotos': [{'metadata': {'primary': True,\n",
       "    'source': {'type': 'PROFILE', 'id': '111372045860486327403'}},\n",
       "   'url': 'https://lh3.googleusercontent.com/c5dqxl-2uHZ82ah9p7yxrVF1ZssrJNSV_15Nu0TUZwzCWqmtoLxCUJgEzLGtxsrJ6-v6R6rKU_-FYm881TTiMCJ_=s1600',\n",
       "   'default': True}],\n",
       " 'photos': [{'metadata': {'primary': True,\n",
       "    'source': {'type': 'PROFILE', 'id': '111372045860486327403'}},\n",
       "   'url': 'https://lh3.googleusercontent.com/a/AAcHTtfUmXqJaF5VdiGDT6Hl_9x4yuYgtaiCLlmhGZpH=s100',\n",
       "   'default': True}],\n",
       " 'emailAddresses': [{'metadata': {'primary': True,\n",
       "    'verified': True,\n",
       "    'source': {'type': 'DOMAIN_PROFILE', 'id': '111372045860486327403'},\n",
       "    'sourcePrimary': True},\n",
       "   'value': 'harshit@goldsetu.co'}]}"
      ]
     },
     "execution_count": 16,
     "metadata": {},
     "output_type": "execute_result"
    }
   ],
   "source": [
    "user_profile"
   ]
  },
  {
   "cell_type": "code",
   "execution_count": null,
   "metadata": {},
   "outputs": [],
   "source": []
  }
 ],
 "metadata": {
  "kernelspec": {
   "display_name": "base",
   "language": "python",
   "name": "python3"
  },
  "language_info": {
   "codemirror_mode": {
    "name": "ipython",
    "version": 3
   },
   "file_extension": ".py",
   "mimetype": "text/x-python",
   "name": "python",
   "nbconvert_exporter": "python",
   "pygments_lexer": "ipython3",
   "version": "3.9.13"
  },
  "orig_nbformat": 4
 },
 "nbformat": 4,
 "nbformat_minor": 2
}
